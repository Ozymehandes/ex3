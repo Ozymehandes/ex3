{
 "cells": [
  {
   "cell_type": "code",
   "execution_count": 1,
   "id": "7f1e4125",
   "metadata": {
    "ExecuteTime": {
     "end_time": "2024-01-28T11:57:10.232690Z",
     "start_time": "2024-01-28T11:57:09.300413Z"
    },
    "pycharm": {
     "name": "#%%\n"
    }
   },
   "outputs": [],
   "source": [
    "import numpy as np\n",
    "import torch\n",
    "from torch import nn\n",
    "from torch import optim\n",
    "import matplotlib.pyplot as plt"
   ]
  },
  {
   "cell_type": "markdown",
   "id": "0a751fad",
   "metadata": {
    "heading_collapsed": true,
    "pycharm": {
     "name": "#%% md\n"
    }
   },
   "source": [
    "# Part 0: Seed"
   ]
  },
  {
   "cell_type": "code",
   "execution_count": 2,
   "id": "8d0c0a33",
   "metadata": {
    "ExecuteTime": {
     "end_time": "2024-01-28T11:57:10.238073Z",
     "start_time": "2024-01-28T11:57:10.233638Z"
    },
    "hidden": true,
    "pycharm": {
     "name": "#%%\n"
    }
   },
   "outputs": [
    {
     "data": {
      "text/plain": "<torch._C.Generator at 0x10bd56b10>"
     },
     "execution_count": 2,
     "metadata": {},
     "output_type": "execute_result"
    }
   ],
   "source": [
    "torch.manual_seed(42)"
   ]
  },
  {
   "cell_type": "markdown",
   "id": "5136bf69",
   "metadata": {
    "heading_collapsed": true,
    "pycharm": {
     "name": "#%% md\n"
    }
   },
   "source": [
    "# Part 1: Arrays operations just like NumPy"
   ]
  },
  {
   "cell_type": "code",
   "execution_count": 3,
   "id": "44af4f9c",
   "metadata": {
    "ExecuteTime": {
     "end_time": "2024-01-28T11:57:10.249203Z",
     "start_time": "2024-01-28T11:57:10.239367Z"
    },
    "hidden": true,
    "pycharm": {
     "name": "#%%\n"
    }
   },
   "outputs": [
    {
     "name": "stdout",
     "output_type": "stream",
     "text": [
      "Tensor a:\n",
      "\t tensor([1., 2., 3., 4., 5.])\n",
      "Tensor a_1\n",
      "\t: tensor([7., 6., 8., 5., 1.])\n",
      "Tensor b:\n",
      "\t tensor([1.0000, 1.2500, 1.5000, 1.7500, 2.0000])\n",
      "Matrix 1:\n",
      "\t tensor([[0.6009, 0.2566, 0.7936],\n",
      "        [0.9408, 0.1332, 0.9346],\n",
      "        [0.5936, 0.8694, 0.5677]])\n",
      "Matrix 2:\n",
      "\t tensor([[0.7411, 0.4294, 0.8854],\n",
      "        [0.5739, 0.2666, 0.6274],\n",
      "        [0.2696, 0.4414, 0.2969]])\n",
      "\n",
      "\n",
      "\n",
      "Examples:\n",
      "\n",
      "\n",
      "Comparison:\n",
      "\t tensor([False, False, False,  True,  True])\n",
      "\n",
      "Exponentiation:\n",
      "\t tensor([  2.7183,   7.3891,  20.0855,  54.5981, 148.4132])\n",
      "\n",
      "Logarithm:\n",
      "\t tensor([0.0000, 0.2231, 0.4055, 0.5596, 0.6931])\n",
      "\n",
      "Square root:\n",
      "\t tensor([1.0000, 1.4142, 1.7321, 2.0000, 2.2361])\n",
      "\n",
      "Are the square roots equal?\n",
      "\t True\n",
      "\n",
      "Element-wise square:\n",
      "\t tensor([ 1.,  4.,  9., 16., 25.])\n",
      "\n",
      "Element-wise addition:\n",
      "\t tensor([ 8.,  8., 11.,  9.,  6.])\n",
      "\n",
      "Element-wise multiplication:\n",
      "\t tensor([ 7., 12., 24., 20.,  5.])\n",
      "\n",
      "Matrix multiplication:\n",
      "\t tensor([[0.8066, 0.6767, 0.9287],\n",
      "        [1.0256, 0.8520, 1.1941],\n",
      "        [1.0919, 0.7372, 1.2397]])\n",
      "\n",
      "Element-wise multiplication:\n",
      "\t tensor([[0.4453, 0.1102, 0.7027],\n",
      "        [0.5399, 0.0355, 0.5864],\n",
      "        [0.1600, 0.3837, 0.1686]])\n",
      "\n",
      "Element-wise addition:\n",
      "\t tensor([[1.3420, 0.6860, 1.6791],\n",
      "        [1.5147, 0.3998, 1.5620],\n",
      "        [0.8632, 1.3108, 0.8646]])\n",
      "\n",
      "\n",
      "Did you get the point? :)\n"
     ]
    }
   ],
   "source": [
    "# More examples of array operations\n",
    "tens_1 = torch.arange(1, 6, dtype=torch.float32)\n",
    "tens_2 = torch.randint_like(tens_1, 1, 10)\n",
    "tens_3 = torch.linspace(1, 2, 5, dtype=torch.float32)\n",
    "mat_1 = torch.rand(3, 3)\n",
    "mat_2 = torch.rand(3, 3)\n",
    "\n",
    "# Exponentiation, logarithm, and element-wise square root\n",
    "\n",
    "c = torch.exp(tens_1)\n",
    "d = torch.log(tens_3)\n",
    "e = torch.sqrt(tens_1)\n",
    "e_2 = tens_1 ** 0.5\n",
    "is_close = torch.allclose(e, e_2)\n",
    "f = tens_1 ** 2\n",
    "g = tens_1 + tens_2\n",
    "h = tens_1 * tens_2\n",
    "i = mat_1 @ mat_2  # (matrix multiplication)\n",
    "j = mat_1 * mat_2  # (element-wise multiplication)\n",
    "k = mat_1 + mat_2  # (element-wise addition)\n",
    "\n",
    "print(\"Tensor a:\\n\\t\", tens_1)\n",
    "print(\"Tensor a_1\\n\\t:\", tens_2)\n",
    "print(\"Tensor b:\\n\\t\", tens_3)\n",
    "print(\"Matrix 1:\\n\\t\", mat_1)\n",
    "print(\"Matrix 2:\\n\\t\", mat_2)\n",
    "\n",
    "print(\"\\n\\n\\nExamples:\\n\")\n",
    "print(\"\\nComparison:\\n\\t\", tens_1 > 3)\n",
    "\n",
    "print(\"\\nExponentiation:\\n\\t\", c)\n",
    "print(\"\\nLogarithm:\\n\\t\", d)\n",
    "print(\"\\nSquare root:\\n\\t\", e)\n",
    "print(\"\\nAre the square roots equal?\\n\\t\", is_close)\n",
    "print(\"\\nElement-wise square:\\n\\t\", f)\n",
    "print(\"\\nElement-wise addition:\\n\\t\", g)\n",
    "print(\"\\nElement-wise multiplication:\\n\\t\", h)\n",
    "print(\"\\nMatrix multiplication:\\n\\t\", i)\n",
    "print(\"\\nElement-wise multiplication:\\n\\t\", j)\n",
    "print(\"\\nElement-wise addition:\\n\\t\", k)\n",
    "print(f\"\\n\\nDid you get the point? :)\")"
   ]
  },
  {
   "cell_type": "markdown",
   "id": "ba99a955",
   "metadata": {
    "heading_collapsed": true,
    "pycharm": {
     "name": "#%% md\n"
    }
   },
   "source": [
    "# Part 2: Gradient-enabled Tensors and Manual Derivatives with Plots"
   ]
  },
  {
   "cell_type": "code",
   "execution_count": 4,
   "id": "759692b0",
   "metadata": {
    "ExecuteTime": {
     "end_time": "2024-01-28T11:57:10.597928Z",
     "start_time": "2024-01-28T11:57:10.495263Z"
    },
    "hidden": true,
    "pycharm": {
     "name": "#%%\n"
    }
   },
   "outputs": [
    {
     "name": "stdout",
     "output_type": "stream",
     "text": [
      "Tensor x: tensor([0.], requires_grad=True)\n",
      "Tensor y: tensor([9.], grad_fn=<PowBackward0>)\n",
      "Gradient of y w.r.t. x: tensor([-6.])\n"
     ]
    },
    {
     "data": {
      "text/plain": "<Figure size 432x288 with 1 Axes>",
      "image/png": "[encoded data removed]"
     },
     "metadata": {
      "needs_background": "light"
     },
     "output_type": "display_data"
    }
   ],
   "source": [
    "# Create a tensor with requires_grad=True to enable automatic differentiation\n",
    "x = torch.tensor([0.], requires_grad=True)\n",
    "\n",
    "# Perform a single iteration and print the Gradient\n",
    "y = (x - 3.) ** 2\n",
    "y.backward()\n",
    "print(\"Tensor x:\", x)\n",
    "print(\"Tensor y:\", y)\n",
    "print(\"Gradient of y w.r.t. x:\", x.grad)\n",
    "\n",
    "# Perform multiple iterations and plot the tensors\n",
    "x_values = []\n",
    "for i in range(50):\n",
    "    y = (x - 3.) ** 2\n",
    "    y.backward()\n",
    "\n",
    "    # Store the y values for plotting\n",
    "    x_values.append(x.item())\n",
    "\n",
    "    # Manually update x to simulate optimization\n",
    "    with torch.no_grad():\n",
    "        x -= 0.1 * x.grad\n",
    "        x.grad.zero_()\n",
    "\n",
    "# Plot the tensor values through iterations\n",
    "plt.plot(x_values, marker='o')\n",
    "plt.xlabel('Iterations')\n",
    "plt.ylabel('Tensor Value')\n",
    "plt.title('Tensor Value Progression')\n",
    "plt.show()"
   ]
  },
  {
   "cell_type": "markdown",
   "id": "958b067f",
   "metadata": {
    "heading_collapsed": true,
    "pycharm": {
     "name": "#%% md\n"
    }
   },
   "source": [
    "# Part 3: Working with GPU"
   ]
  },
  {
   "cell_type": "code",
   "execution_count": 5,
   "id": "7a5cfd1f",
   "metadata": {
    "ExecuteTime": {
     "end_time": "2024-01-28T11:57:10.927609Z",
     "start_time": "2024-01-28T11:57:10.922784Z"
    },
    "hidden": true,
    "pycharm": {
     "name": "#%%\n"
    }
   },
   "outputs": [
    {
     "name": "stdout",
     "output_type": "stream",
     "text": [
      "Using device: cpu\n",
      "Tensor x: tensor([0, 1, 2, 3, 4, 5, 6, 7, 8, 9])\n",
      "Tensor x Device (CPU): cpu\n",
      "Tensor x Device (GPU): cpu\n"
     ]
    }
   ],
   "source": [
    "# Check if GPU is available\n",
    "device = torch.device(\"cuda\" if torch.cuda.is_available() else \"cpu\")\n",
    "print(\"Using device:\", device)\n",
    "\n",
    "x = torch.arange(10)\n",
    "print(\"Tensor x:\", x)\n",
    "print(\"Tensor x Device (CPU):\", x.device)\n",
    "\n",
    "# Move the model and tensors to GPU if available\n",
    "x.to(device)\n",
    "\n",
    "print(\"Tensor x Device (GPU):\", x.device)"
   ]
  },
  {
   "cell_type": "markdown",
   "id": "19e26299",
   "metadata": {
    "heading_collapsed": true,
    "pycharm": {
     "name": "#%% md\n"
    }
   },
   "source": [
    "# Part 4: Defining a Dataset"
   ]
  },
  {
   "cell_type": "code",
   "execution_count": 6,
   "id": "b9278276",
   "metadata": {
    "ExecuteTime": {
     "end_time": "2024-01-28T11:57:11.362030Z",
     "start_time": "2024-01-28T11:57:11.351619Z"
    },
    "code_folding": [],
    "hidden": true,
    "pycharm": {
     "name": "#%%\n"
    }
   },
   "outputs": [],
   "source": [
    "# Create a simple dataset and DataLoader\n",
    "class DummyDataset(torch.utils.data.Dataset):\n",
    "    \"\"\"\n",
    "    Any dataset should inherit from torch.utils.data.Dataset and override the __len__ and __getitem__ methods.\n",
    "    __init__ is optional.\n",
    "    __len__ should return the size of the dataset.\n",
    "    __getitem__ should return a tuple (data, label) for the given index.\n",
    "    \"\"\"\n",
    "\n",
    "    def __init__(self, size=1000):\n",
    "        self.data = torch.rand(size, 2)\n",
    "        self.labels = torch.round(self.data.sum(dim=1)).to(torch.long)\n",
    "\n",
    "    def __len__(self):\n",
    "        return len(self.data)\n",
    "\n",
    "    def __getitem__(self, idx):\n",
    "        return self.data[idx], self.labels[idx]\n"
   ]
  },
  {
   "cell_type": "code",
   "execution_count": 7,
   "id": "583fd923",
   "metadata": {
    "ExecuteTime": {
     "end_time": "2024-01-28T11:57:11.564299Z",
     "start_time": "2024-01-28T11:57:11.548814Z"
    },
    "hidden": true,
    "pycharm": {
     "name": "#%%\n"
    }
   },
   "outputs": [
    {
     "name": "stdout",
     "output_type": "stream",
     "text": [
      "First Sample in Dataset (tensor([0.8317, 0.1053]), tensor(1))\n",
      "Length of dataset 100\n",
      "\n",
      "\n",
      "torch.Size([32, 2]) 32\n",
      "torch.Size([32, 2]) 32\n",
      "torch.Size([32, 2]) 32\n",
      "torch.Size([4, 2]) 4\n"
     ]
    }
   ],
   "source": [
    "dummy_dataset = DummyDataset(size=100)\n",
    "print(\"First Sample in Dataset\", dummy_dataset[0])\n",
    "print(f\"Length of dataset\", len(dummy_dataset))\n",
    "print('\\n')\n",
    "\n",
    "# loop over the samples in the dataset, in batches of 32\n",
    "dataloader = torch.utils.data.DataLoader(dummy_dataset, # dataset to loop over\n",
    "                                         batch_size=32, # batch size\n",
    "                                         shuffle=True # if true shuffles the examples. Else uses \n",
    "                                        )\n",
    "\n",
    "for inputs, labels in dataloader:\n",
    "    print(inputs.shape, len(labels))\n",
    "    \n",
    "# Last batch might be smaller (it is len(dataset) % batch_size)"
   ]
  },
  {
   "cell_type": "markdown",
   "id": "dd2618f0",
   "metadata": {
    "heading_collapsed": true,
    "pycharm": {
     "name": "#%% md\n"
    }
   },
   "source": [
    "# Part 5: Defining a Linear Model"
   ]
  },
  {
   "cell_type": "code",
   "execution_count": 8,
   "id": "332c16e3",
   "metadata": {
    "ExecuteTime": {
     "end_time": "2024-01-28T11:57:12.010072Z",
     "start_time": "2024-01-28T11:57:12.003427Z"
    },
    "hidden": true,
    "pycharm": {
     "name": "#%%\n"
    }
   },
   "outputs": [],
   "source": [
    "class SimpleLinearModel(nn.Module):\n",
    "    def __init__(self, in_ch=2, out_ch=1):\n",
    "        super(SimpleLinearModel, self).__init__()\n",
    "        self.linear = nn.Linear(in_features=in_ch, out_features=out_ch)  # linear optimizable operation\n",
    "\n",
    "    def forward(self, x):\n",
    "        return self.linear(x)\n",
    "\n"
   ]
  },
  {
   "cell_type": "code",
   "execution_count": 9,
   "id": "3e008110",
   "metadata": {
    "ExecuteTime": {
     "end_time": "2024-01-28T11:57:12.221728Z",
     "start_time": "2024-01-28T11:57:12.208142Z"
    },
    "hidden": true,
    "pycharm": {
     "name": "#%%\n"
    }
   },
   "outputs": [
    {
     "name": "stdout",
     "output_type": "stream",
     "text": [
      "Original vector: tensor([2., 3.])\n",
      "Result after multiplying by the identity matrix: [2. 3.]\n"
     ]
    }
   ],
   "source": [
    "# Define the linear model\n",
    "model = SimpleLinearModel()\n",
    "\n",
    "# YOU SHOULD NOT REPLACE A MODELS PARAMETERS MANUALLY IN PRACTICE! \n",
    "# This is just for the purpose of this tutorial\n",
    "\n",
    "# Switch the parameters to an identity matrix\n",
    "identity_matrix = torch.eye(2)\n",
    "model.linear.weight.data = identity_matrix\n",
    "model.linear.bias.data.zero_()\n",
    "\n",
    "# Multiply by some vector\n",
    "input_vector = torch.tensor([2.0, 3.0])  # Example input vector\n",
    "result = model(input_vector)\n",
    "\n",
    "# Display the results\n",
    "print(\"Original vector:\", input_vector)\n",
    "print(\"Result after multiplying by the identity matrix:\", result.detach().numpy())\n",
    "# results should be the same"
   ]
  },
  {
   "cell_type": "markdown",
   "id": "14592abc",
   "metadata": {
    "pycharm": {
     "name": "#%% md\n"
    }
   },
   "source": [
    "# Part 6: Optimizers (Automatic SGD)"
   ]
  },
  {
   "cell_type": "code",
   "execution_count": 10,
   "id": "76db7777",
   "metadata": {
    "ExecuteTime": {
     "end_time": "2024-01-28T11:57:12.897741Z",
     "start_time": "2024-01-28T11:57:12.815166Z"
    },
    "pycharm": {
     "name": "#%%\n"
    }
   },
   "outputs": [
    {
     "data": {
      "text/plain": "<Figure size 432x288 with 1 Axes>",
      "image/png": "[encoded data removed]"
     },
     "metadata": {
      "needs_background": "light"
     },
     "output_type": "display_data"
    }
   ],
   "source": [
    "\n",
    "# Create a tensor with requires_grad=True to enable automatic differentiation\n",
    "x = torch.tensor([0.0], requires_grad=True)\n",
    "\n",
    "# Define an optimizer (e.g., SGD) and set the learning rate\n",
    "optimizer = torch.optim.SGD([x], lr=0.1)\n",
    "\n",
    "# Define a learning rate scheduler (OPTIONAL)\n",
    "lr_scheduler = torch.optim.lr_scheduler.StepLR(optimizer, \n",
    "                                               step_size=15, # rate of decay\n",
    "                                               gamma=0.3 # how much to decay the learning rate\n",
    "                                              )\n",
    "\n",
    "# Perform multiple iterations and plot the tensors\n",
    "x_values = []\n",
    "\n",
    "for i in range(50):\n",
    "    y = (x - 3.) ** 2\n",
    "    y.backward()\n",
    "    x_values.append(x.item())\n",
    "\n",
    "    optimizer.step() # Use the optimizer to update x\n",
    "    optimizer.zero_grad() # Manually zero the gradient after updating\n",
    "    lr_scheduler.step()\n",
    "\n",
    "# Plot the tensor values through iterations\n",
    "plt.plot(x_values, marker='o')\n",
    "plt.xlabel('Iterations')\n",
    "plt.ylabel('Tensor Value')\n",
    "plt.title('Tensor Value Progression')\n",
    "plt.show()\n"
   ]
  },
  {
   "cell_type": "markdown",
   "id": "82252337",
   "metadata": {
    "pycharm": {
     "name": "#%% md\n"
    }
   },
   "source": [
    "# Part 7: Putting it all together - Full Optimization Loop"
   ]
  },
  {
   "cell_type": "code",
   "execution_count": 13,
   "id": "c2730347",
   "metadata": {
    "ExecuteTime": {
     "end_time": "2024-01-28T11:57:15.036440Z",
     "start_time": "2024-01-28T11:57:13.534701Z"
    },
    "scrolled": true,
    "pycharm": {
     "name": "#%%\n"
    }
   },
   "outputs": [
    {
     "name": "stdout",
     "output_type": "stream",
     "text": [
      "Epoch [1/100], Loss: 1.0544, Accuracy: 0.28\n",
      "Epoch [2/100], Loss: 1.0222, Accuracy: 0.41\n",
      "Epoch [3/100], Loss: 0.9928, Accuracy: 0.54\n",
      "Epoch [4/100], Loss: 0.9661, Accuracy: 0.68\n",
      "Epoch [5/100], Loss: 0.9421, Accuracy: 0.76\n",
      "Epoch [6/100], Loss: 0.9204, Accuracy: 0.79\n",
      "Epoch [7/100], Loss: 0.9005, Accuracy: 0.82\n",
      "Epoch [8/100], Loss: 0.8826, Accuracy: 0.82\n",
      "Epoch [9/100], Loss: 0.8666, Accuracy: 0.82\n",
      "Epoch [10/100], Loss: 0.8520, Accuracy: 0.81\n",
      "Epoch [11/100], Loss: 0.8391, Accuracy: 0.80\n",
      "Epoch [12/100], Loss: 0.8271, Accuracy: 0.78\n",
      "Epoch [13/100], Loss: 0.8167, Accuracy: 0.77\n",
      "Epoch [14/100], Loss: 0.8063, Accuracy: 0.77\n",
      "Epoch [15/100], Loss: 0.7978, Accuracy: 0.76\n",
      "Epoch [16/100], Loss: 0.7925, Accuracy: 0.75\n",
      "Epoch [17/100], Loss: 0.7903, Accuracy: 0.75\n",
      "Epoch [18/100], Loss: 0.7876, Accuracy: 0.75\n",
      "Epoch [19/100], Loss: 0.7855, Accuracy: 0.75\n",
      "Epoch [20/100], Loss: 0.7834, Accuracy: 0.75\n",
      "Epoch [21/100], Loss: 0.7812, Accuracy: 0.74\n",
      "Epoch [22/100], Loss: 0.7796, Accuracy: 0.74\n",
      "Epoch [23/100], Loss: 0.7772, Accuracy: 0.74\n",
      "Epoch [24/100], Loss: 0.7758, Accuracy: 0.74\n",
      "Epoch [25/100], Loss: 0.7737, Accuracy: 0.74\n",
      "Epoch [26/100], Loss: 0.7721, Accuracy: 0.74\n",
      "Epoch [27/100], Loss: 0.7701, Accuracy: 0.74\n",
      "Epoch [28/100], Loss: 0.7685, Accuracy: 0.74\n",
      "Epoch [29/100], Loss: 0.7670, Accuracy: 0.74\n",
      "Epoch [30/100], Loss: 0.7649, Accuracy: 0.74\n",
      "Epoch [31/100], Loss: 0.7639, Accuracy: 0.74\n",
      "Epoch [32/100], Loss: 0.7636, Accuracy: 0.74\n",
      "Epoch [33/100], Loss: 0.7634, Accuracy: 0.74\n",
      "Epoch [34/100], Loss: 0.7629, Accuracy: 0.74\n",
      "Epoch [35/100], Loss: 0.7624, Accuracy: 0.74\n",
      "Epoch [36/100], Loss: 0.7617, Accuracy: 0.74\n",
      "Epoch [37/100], Loss: 0.7613, Accuracy: 0.74\n",
      "Epoch [38/100], Loss: 0.7607, Accuracy: 0.74\n",
      "Epoch [39/100], Loss: 0.7604, Accuracy: 0.74\n",
      "Epoch [40/100], Loss: 0.7600, Accuracy: 0.74\n",
      "Epoch [41/100], Loss: 0.7597, Accuracy: 0.74\n",
      "Epoch [42/100], Loss: 0.7589, Accuracy: 0.74\n",
      "Epoch [43/100], Loss: 0.7587, Accuracy: 0.74\n",
      "Epoch [44/100], Loss: 0.7580, Accuracy: 0.74\n",
      "Epoch [45/100], Loss: 0.7576, Accuracy: 0.74\n",
      "Epoch [46/100], Loss: 0.7575, Accuracy: 0.74\n",
      "Epoch [47/100], Loss: 0.7577, Accuracy: 0.74\n",
      "Epoch [48/100], Loss: 0.7569, Accuracy: 0.74\n",
      "Epoch [49/100], Loss: 0.7572, Accuracy: 0.74\n",
      "Epoch [50/100], Loss: 0.7567, Accuracy: 0.74\n",
      "Epoch [51/100], Loss: 0.7572, Accuracy: 0.74\n",
      "Epoch [52/100], Loss: 0.7568, Accuracy: 0.74\n",
      "Epoch [53/100], Loss: 0.7565, Accuracy: 0.74\n",
      "Epoch [54/100], Loss: 0.7564, Accuracy: 0.74\n",
      "Epoch [55/100], Loss: 0.7564, Accuracy: 0.74\n",
      "Epoch [56/100], Loss: 0.7562, Accuracy: 0.74\n",
      "Epoch [57/100], Loss: 0.7567, Accuracy: 0.74\n",
      "Epoch [58/100], Loss: 0.7561, Accuracy: 0.74\n",
      "Epoch [59/100], Loss: 0.7555, Accuracy: 0.74\n",
      "Epoch [60/100], Loss: 0.7557, Accuracy: 0.74\n",
      "Epoch [61/100], Loss: 0.7556, Accuracy: 0.74\n",
      "Epoch [62/100], Loss: 0.7560, Accuracy: 0.74\n",
      "Epoch [63/100], Loss: 0.7559, Accuracy: 0.74\n",
      "Epoch [64/100], Loss: 0.7558, Accuracy: 0.74\n",
      "Epoch [65/100], Loss: 0.7558, Accuracy: 0.74\n",
      "Epoch [66/100], Loss: 0.7557, Accuracy: 0.74\n",
      "Epoch [67/100], Loss: 0.7555, Accuracy: 0.74\n",
      "Epoch [68/100], Loss: 0.7559, Accuracy: 0.74\n",
      "Epoch [69/100], Loss: 0.7558, Accuracy: 0.74\n",
      "Epoch [70/100], Loss: 0.7551, Accuracy: 0.74\n",
      "Epoch [71/100], Loss: 0.7559, Accuracy: 0.74\n",
      "Epoch [72/100], Loss: 0.7553, Accuracy: 0.74\n",
      "Epoch [73/100], Loss: 0.7553, Accuracy: 0.74\n",
      "Epoch [74/100], Loss: 0.7554, Accuracy: 0.74\n",
      "Epoch [75/100], Loss: 0.7554, Accuracy: 0.74\n",
      "Epoch [76/100], Loss: 0.7553, Accuracy: 0.74\n",
      "Epoch [77/100], Loss: 0.7555, Accuracy: 0.74\n",
      "Epoch [78/100], Loss: 0.7554, Accuracy: 0.74\n",
      "Epoch [79/100], Loss: 0.7557, Accuracy: 0.74\n",
      "Epoch [80/100], Loss: 0.7552, Accuracy: 0.74\n",
      "Epoch [81/100], Loss: 0.7552, Accuracy: 0.74\n",
      "Epoch [82/100], Loss: 0.7555, Accuracy: 0.74\n",
      "Epoch [83/100], Loss: 0.7550, Accuracy: 0.74\n",
      "Epoch [84/100], Loss: 0.7556, Accuracy: 0.74\n",
      "Epoch [85/100], Loss: 0.7553, Accuracy: 0.74\n",
      "Epoch [86/100], Loss: 0.7550, Accuracy: 0.74\n",
      "Epoch [87/100], Loss: 0.7549, Accuracy: 0.74\n",
      "Epoch [88/100], Loss: 0.7550, Accuracy: 0.74\n",
      "Epoch [89/100], Loss: 0.7554, Accuracy: 0.74\n",
      "Epoch [90/100], Loss: 0.7550, Accuracy: 0.74\n",
      "Epoch [91/100], Loss: 0.7551, Accuracy: 0.74\n",
      "Epoch [92/100], Loss: 0.7547, Accuracy: 0.74\n",
      "Epoch [93/100], Loss: 0.7550, Accuracy: 0.74\n",
      "Epoch [94/100], Loss: 0.7553, Accuracy: 0.74\n",
      "Epoch [95/100], Loss: 0.7548, Accuracy: 0.74\n",
      "Epoch [96/100], Loss: 0.7549, Accuracy: 0.74\n",
      "Epoch [97/100], Loss: 0.7555, Accuracy: 0.74\n",
      "Epoch [98/100], Loss: 0.7552, Accuracy: 0.74\n",
      "Epoch [99/100], Loss: 0.7550, Accuracy: 0.74\n",
      "Epoch [100/100], Loss: 0.7550, Accuracy: 0.74\n"
     ]
    },
    {
     "data": {
      "text/plain": "<Figure size 432x288 with 1 Axes>",
      "image/png": "[encoded data removed]"
     },
     "metadata": {
      "needs_background": "light"
     },
     "output_type": "display_data"
    },
    {
     "name": "stdout",
     "output_type": "stream",
     "text": [
      "Test Accuracy: 0.70\n"
     ]
    }
   ],
   "source": [
    "# Instantiate the dataset and DataLoader\n",
    "dummy_dataset = DummyDataset(size=3000)\n",
    "test_dataset = DummyDataset(size=20)\n",
    "\n",
    "n_classes = len(torch.unique(dummy_dataset.labels))\n",
    "\n",
    "dataloader = torch.utils.data.DataLoader(dummy_dataset, batch_size=32, shuffle=True)\n",
    "test_loader = torch.utils.data.DataLoader(test_dataset, batch_size=32, shuffle=False)\n",
    "\n",
    "# Instantiate the model, loss function, and optimizer\n",
    "model = SimpleLinearModel(in_ch=2, out_ch=n_classes)\n",
    "model.to(device)\n",
    "criterion = nn.CrossEntropyLoss()\n",
    "optimizer = optim.SGD(model.parameters(), lr=0.001)\n",
    "lr_scheduler = torch.optim.lr_scheduler.StepLR(optimizer, step_size=15, gamma=0.3)\n",
    "\n",
    "# Train the model for a few epochs with GPU acceleration\n",
    "num_epochs = 100\n",
    "ep_loss_values = []\n",
    "\n",
    "for epoch in range(num_epochs):\n",
    "    loss_values = []\n",
    "    ep_correct_preds = 0.\n",
    "    model.train()  # set the model to training mode\n",
    "    for inputs, labels in dataloader:\n",
    "        inputs, labels = inputs.to(device), labels.to(device)\n",
    "        optimizer.zero_grad()\n",
    "        outputs = model(inputs)\n",
    "        loss = criterion(outputs.squeeze(), labels)\n",
    "        loss.backward()\n",
    "        optimizer.step()\n",
    "\n",
    "        # Store the loss values for plotting\n",
    "        loss_values.append(loss.item())\n",
    "        ep_correct_preds += torch.sum(torch.argmax(outputs, dim=1) == labels).item()\n",
    "\n",
    "    lr_scheduler.step()\n",
    "\n",
    "    mean_loss = np.mean(loss_values)\n",
    "    ep_accuracy = ep_correct_preds / len(dummy_dataset)\n",
    "    ep_loss_values.append(mean_loss)\n",
    "\n",
    "    print(f'Epoch [{epoch + 1}/{num_epochs}], Loss: {mean_loss.item():.4f}, Accuracy: {ep_accuracy:.2f}')\n",
    "\n",
    "# Plot the loss values through epochs\n",
    "plt.plot(ep_loss_values, marker='o')\n",
    "plt.xlabel('Epochs')\n",
    "plt.ylabel('Loss Value')\n",
    "plt.title('Training Loss Progression')\n",
    "plt.show()\n",
    "\n",
    "# Evaluate the model on the test set\n",
    "model.eval()  # set the model to evaluation mode\n",
    "correct_predictions = 0.\n",
    "for inputs, labels in test_loader:\n",
    "    inputs, labels = inputs.to(device), labels.to(device)\n",
    "    outputs = model(inputs)\n",
    "    outputs = nn.functional.softmax(outputs, dim=1)\n",
    "    _, predicted = torch.max(outputs, dim=1)\n",
    "    correct_predictions += torch.sum(predicted == labels).item()\n",
    "\n",
    "print(f'Test Accuracy: {correct_predictions / len(test_dataset):.2f}')"
   ]
  },
  {
   "cell_type": "markdown",
   "id": "7b2dfbf3",
   "metadata": {
    "ExecuteTime": {
     "end_time": "2024-01-28T11:36:11.104126Z",
     "start_time": "2024-01-28T11:36:11.012453Z"
    },
    "pycharm": {
     "name": "#%% md\n"
    }
   },
   "source": [
    "# Part 8: Saving and Loading Models and accessing model parameters"
   ]
  },
  {
   "cell_type": "code",
   "execution_count": 12,
   "id": "282a9adf",
   "metadata": {
    "ExecuteTime": {
     "end_time": "2024-01-28T11:57:29.945379Z",
     "start_time": "2024-01-28T11:57:29.929332Z"
    },
    "pycharm": {
     "name": "#%%\n"
    }
   },
   "outputs": [
    {
     "name": "stdout",
     "output_type": "stream",
     "text": [
      "Is loaded model same as original model? True\n"
     ]
    }
   ],
   "source": [
    "# save model\n",
    "torch.save(model.state_dict(), 'model.pt')\n",
    "\n",
    "# to load model- i) create an instance of the model ii) load the state dict\n",
    "loaded_model = SimpleLinearModel(in_ch=2, out_ch=n_classes)\n",
    "loaded_model.load_state_dict(torch.load('model.pt'))\n",
    "\n",
    "# access the model parameters and check their all close\n",
    "model_weights = model.linear.weight.data\n",
    "loaded_model_weights = loaded_model.linear.weight.data\n",
    "print(\"Is loaded model same as original model?\", torch.allclose(model_weights, loaded_model_weights))"
   ]
  },
  {
   "cell_type": "code",
   "execution_count": null,
   "id": "54321d96",
   "metadata": {
    "pycharm": {
     "name": "#%%\n"
    }
   },
   "outputs": [],
   "source": []
  }
 ],
 "metadata": {
  "kernelspec": {
   "display_name": "Python 3 (ipykernel)",
   "language": "python",
   "name": "python3"
  },
  "language_info": {
   "codemirror_mode": {
    "name": "ipython",
    "version": 3
   },
   "file_extension": ".py",
   "mimetype": "text/x-python",
   "name": "python",
   "nbconvert_exporter": "python",
   "pygments_lexer": "ipython3",
   "version": "3.9.15"
  }
 },
 "nbformat": 4,
 "nbformat_minor": 5
}